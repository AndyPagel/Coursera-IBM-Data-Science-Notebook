{
 "cells": [
  {
   "cell_type": "markdown",
   "id": "0f6607c5",
   "metadata": {},
   "source": [
    "# Data Science Tools and Ecosystem"
   ]
  },
  {
   "cell_type": "markdown",
   "id": "9d15e4e9",
   "metadata": {},
   "source": [
    "### In this notebook, Data Science Tools and Ecosystem are summarized"
   ]
  },
  {
   "cell_type": "markdown",
   "id": "fd0bd845",
   "metadata": {},
   "source": [
    "### __Objectives:__\n",
    "##### List of popular languages for data science:\n",
    "-Python  \n",
    "-R  \n",
    "-SQL  "
   ]
  },
  {
   "cell_type": "markdown",
   "id": "56965bc7",
   "metadata": {},
   "source": [
    "### Some of the commonly used libraries used by Data Scientists include:\n",
    " 1. Pandas\n",
    " 2. R\n",
    " 3. Scikit-Learn"
   ]
  },
  {
   "cell_type": "markdown",
   "id": "5cc9aab9",
   "metadata": {},
   "source": [
    "| Data Science Tools |\n",
    "| --- |\n",
    "| Watson Studio |\n",
    "| Apache Spark |\n",
    "| TensorFlow |"
   ]
  },
  {
   "cell_type": "markdown",
   "id": "9817db6f",
   "metadata": {},
   "source": [
    "### Below are a few examples of evaluating arithmetic expressions in Python"
   ]
  },
  {
   "cell_type": "code",
   "execution_count": 13,
   "id": "49a1a34b",
   "metadata": {},
   "outputs": [
    {
     "data": {
      "text/plain": [
       "17"
      ]
     },
     "execution_count": 13,
     "metadata": {},
     "output_type": "execute_result"
    }
   ],
   "source": [
    "# This a simple arithmetic expression to mutiply then add integers\n",
    "(3*4)+5"
   ]
  },
  {
   "cell_type": "code",
   "execution_count": 16,
   "id": "6e2946f5",
   "metadata": {},
   "outputs": [
    {
     "name": "stdout",
     "output_type": "stream",
     "text": [
      "3.3333333333333335\n"
     ]
    }
   ],
   "source": [
    "hours = 200 / 60\n",
    "print(hours)"
   ]
  },
  {
   "cell_type": "markdown",
   "id": "8f1bbc52",
   "metadata": {},
   "source": [
    "## Author\n",
    "Andy Pagel"
   ]
  },
  {
   "cell_type": "code",
   "execution_count": null,
   "id": "1208655f",
   "metadata": {},
   "outputs": [],
   "source": []
  }
 ],
 "metadata": {
  "kernelspec": {
   "display_name": "Python 3 (ipykernel)",
   "language": "python",
   "name": "python3"
  },
  "language_info": {
   "codemirror_mode": {
    "name": "ipython",
    "version": 3
   },
   "file_extension": ".py",
   "mimetype": "text/x-python",
   "name": "python",
   "nbconvert_exporter": "python",
   "pygments_lexer": "ipython3",
   "version": "3.10.9"
  }
 },
 "nbformat": 4,
 "nbformat_minor": 5
}
